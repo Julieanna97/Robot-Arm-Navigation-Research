{
 "cells": [
  {
   "attachments": {},
   "cell_type": "markdown",
   "metadata": {},
   "source": [
    "# Robot Arm - Navigation\n",
    "\n"
   ]
  },
  {
   "attachments": {},
   "cell_type": "markdown",
   "metadata": {},
   "source": [
    "A [Robotic arm](https://en.wikipedia.org/wiki/Robotic_arm) is a type of mechanical arm, usually programmable, with similar characteristics of a human arm. The purpose of the robot is to replace the human in difficult and harmful tasks e.g., Industrial production, processing and manufacturing roles. Any task in which extremely precise, fast and repeatable movements are required as well as to automate the process of doing the daily task that humans typically do.\n",
    "\n",
    "Robot navigation means the robot's ability to determine its own position in its frame of reference and then to its destination path/towards some goal location.\n",
    "\n",
    "The unit is generally composed of 6 joints (6 axes). Six-axis robots are the standard and have a full range of motion, that closely resembles a human arm.\n",
    "It's structured with a shoulder, an elbow and a wrist and even finger tips. There are more robots with more than 6 joints.\n",
    "\n",
    "![Model](https://www.mathworks.com/help/examples/fuzzy/win64/invkine_codepad_01.png)"
   ]
  }
 ],
 "metadata": {
  "kernelspec": {
   "display_name": "Python 3",
   "language": "python",
   "name": "python3"
  },
  "language_info": {
   "codemirror_mode": {
    "name": "ipython",
    "version": 3
   },
   "file_extension": ".py",
   "mimetype": "text/x-python",
   "name": "python",
   "nbconvert_exporter": "python",
   "pygments_lexer": "ipython3",
   "version": "3.10.4"
  },
  "orig_nbformat": 4,
  "vscode": {
   "interpreter": {
    "hash": "0ff010205904bfe3eee581ff58f8f0b99bd85f9d9a45393812156d4e4d4c6c03"
   }
  }
 },
 "nbformat": 4,
 "nbformat_minor": 2
}
