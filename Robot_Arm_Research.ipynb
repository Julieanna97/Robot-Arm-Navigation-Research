{
 "cells": [
  {
   "attachments": {},
   "cell_type": "markdown",
   "metadata": {},
   "source": [
    "# Robotic Arm\n",
    "\n"
   ]
  },
  {
   "attachments": {},
   "cell_type": "markdown",
   "metadata": {},
   "source": [
    "A [Robotic arm](https://en.wikipedia.org/wiki/Robotic_arm) is a type of mechanical arm, usually programmable, with similar characteristics of a human arm. The purpose of the robot is to replace the human in difficult and harmful tasks e.g., Industrial production, processing and manufacturing roles. Any task in which extremely precise, fast and repeatable movements are required as well as to automate the process of doing the daily task that humans typically do.\n",
    "\n",
    "The [arm](https://www.intel.com/content/www/us/en/robotics/robotic-arm.html#:~:text=Most%20industrial%20robotic%20arms%20use,power%20systems%2C%20and%20software%20components) \n",
    "contains:\n",
    "- __Motors and gears__ that allow arm to rotate/move in different directions.\n",
    "- __Joints__ that consists of sevral joints.\n",
    "- __Links__ are the rigid segments that connect the joints.\n",
    "- __End-effector__ is the device that is attached to the arm's last link e.g., grippers to pick up items.\n",
    "- __Sensors__, such as cameras, force sensors, or proximity sensors, which allow the arm to sense and respond to its environment.\n",
    "- __Control system__ is the brain of the robotic arm, which directs the movement and operation of the arm. It is commonly run in a computer, software, and control electronics.\n",
    "\n",
    "![Model](https://www.mathworks.com/help/examples/fuzzy/win64/invkine_codepad_01.png)\n",
    "\n",
    "# Problem 1: Accuracy\n",
    "\n",
    "The accuracy of a robot arm in terms of position and orientation refers to how precisely the arm can move to a specific location and how accurately it can orient its end-effector in a particular direction. This accuracy is typically measured repeatedly along with its positional accuracy.\n",
    "\n",
    "The accuracy issue is based on the object's displacement from the target area after a series of repeated movements by the arm. It could be error in accuracy along the X or Y-axis due to sensor errors, design, mechanical wear and tear, control algorithms etc.\n",
    "\n",
    "We can measure the error by:\n",
    "- Using [coordinate system](https://www.kth.se/polopoly_fs/1.1078075.1622113235!/gr22rapport2021-02.pdf) by comparing the object's __displacement__ from the __target__ position (__origo__) to see the _displacement_ in both x & y directions.\n",
    "\n",
    "__X & Y__ can be measured in __millimeters__, __centimeters__ or __inches__, depending on the application and the precision __required__. Robotic arms are required to be __highly__ precise, with __accuracy__ levels measured in _millimeter_ or even _microns_."
   ]
  }
 ],
 "metadata": {
  "kernelspec": {
   "display_name": "Python 3",
   "language": "python",
   "name": "python3"
  },
  "language_info": {
   "codemirror_mode": {
    "name": "ipython",
    "version": 3
   },
   "file_extension": ".py",
   "mimetype": "text/x-python",
   "name": "python",
   "nbconvert_exporter": "python",
   "pygments_lexer": "ipython3",
   "version": "3.10.4"
  },
  "orig_nbformat": 4,
  "vscode": {
   "interpreter": {
    "hash": "0ff010205904bfe3eee581ff58f8f0b99bd85f9d9a45393812156d4e4d4c6c03"
   }
  }
 },
 "nbformat": 4,
 "nbformat_minor": 2
}
