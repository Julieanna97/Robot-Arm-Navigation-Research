{
 "cells": [
  {
   "attachments": {},
   "cell_type": "markdown",
   "metadata": {},
   "source": [
    "# Robotic Arm\n",
    "\n"
   ]
  },
  {
   "attachments": {},
   "cell_type": "markdown",
   "metadata": {},
   "source": [
    "A [Robotic arm](https://en.wikipedia.org/wiki/Robotic_arm) is a type of mechanical arm, usually programmable, with similar characteristics of a human arm. The purpose of the robot is to replace the human in difficult and harmful tasks e.g., Industrial production, processing and manufacturing roles. Any task in which extremely precise, fast and repeatable movements are required as well as to automate the process of doing the daily task that humans typically do.\n",
    "\n",
    "The [arm](https://www.intel.com/content/www/us/en/robotics/robotic-arm.html#:~:text=Most%20industrial%20robotic%20arms%20use,power%20systems%2C%20and%20software%20components) \n",
    "contains:\n",
    "- __Motors and gears__ that allow arm to rotate/move in different directions.\n",
    "- __Joints__ that consists of several joints.\n",
    "- __Links__ are the rigid segments that connect the joints.\n",
    "- __End-effector__ is the device that is attached to the arm's last link e.g., grippers to pick up items.\n",
    "- __Sensors__, such as cameras, force sensors, or proximity sensors, which allow the arm to sense and respond to its environment.\n",
    "- __Control system__ is the brain of the robotic arm, which directs the movement and operation of the arm. It is commonly run in a computer, software, and control electronics.\n",
    "\n",
    "# Control robot arm through a mobile application\n",
    "In this code [here](https://github.com/Julieanna97/Robot-Arm-Research/blob/master/Mobile%20App/Mobile_app.cpp), the __read_signals_from_moile_app()__ function reads the signals from the mobile application to the robot arm in binary string, which is converted using __stoi__ with a base of 2. \n",
    "\n",
    "It sends one uint16 (__2__ bytes) at a time, encoded like this:\n",
    "- bit __1__ - __SIGNAL_UP__\n",
    "- bit __2__ - __SIGNAL_DOWN__\n",
    "- bit __4__ - __SIGNAL_LEFT__\n",
    "- bit __8__ - __SIGNAL_RIGHT__\n",
    "\n",
    "I'm coding this using the bitwise operation (boolean algebra) to get signals in the right place. For example, the robot arm moves to the right by shifting 3 bits to the left. To switch the robot arm's position, I use bitshift and bitwise right shift. See the code below."
   ]
  },
  {
   "cell_type": "code",
   "execution_count": null,
   "metadata": {
    "vscode": {
     "languageId": "cpp"
    }
   },
   "outputs": [],
   "source": [
    "// Define the signals to control the robot arm\n",
    "const int SIGNAL_UP    = 1 << 0; // 00000001b\n",
    "const int SIGNAL_DOWN  = 1 << 1; // 00000010b\n",
    "const int SIGNAL_LEFT  = 1 << 2; // 00000100b\n",
    "const int SIGNAL_RIGHT = 1 << 3; // 00001000b"
   ]
  },
  {
   "cell_type": "code",
   "execution_count": null,
   "metadata": {
    "vscode": {
     "languageId": "cpp"
    }
   },
   "outputs": [],
   "source": [
    "// Function to read signals from mobile app (replace with actual code)\n",
    "int read_signals_from_mobile_app() {\n",
    "    // For example, if the signals are sent as a binary string\n",
    "    string signals_str = \"1000\"; // Up and right signals are active\n",
    "    int signals = stoi(signals_str, nullptr, 2);\n",
    "    return signals;\n",
    "}"
   ]
  },
  {
   "attachments": {},
   "cell_type": "markdown",
   "metadata": {},
   "source": [
    "The __control_robot_arm()__ function takes an __integer argument__ that contains the signals and uses __bitwise__ operations to determine which signals are __active__. The function then uses __conditional statements__ (logical operator) to control the robot arm based on the active signals."
   ]
  },
  {
   "cell_type": "code",
   "execution_count": null,
   "metadata": {
    "vscode": {
     "languageId": "cpp"
    }
   },
   "outputs": [],
   "source": [
    "// Function to control the robot arm based on signals\n",
    "void control_robot_arm(int signals) {\n",
    "    // Determine which signals are active using bitwise operations\n",
    "    bool up    = (signals & SIGNAL_UP)    != 0;\n",
    "    bool down  = (signals & SIGNAL_DOWN)  != 0;\n",
    "    bool left  = (signals & SIGNAL_LEFT)  != 0;\n",
    "    bool right = (signals & SIGNAL_RIGHT) != 0;\n",
    "\n",
    "    // Use the signals to control the robot arm (replace with actual code)\n",
    "    // For example, if there is a function called \"control_robot_arm(string command)\"\n",
    "    // You could do something like this:\n",
    "    if (up && !down && !left && !right) {\n",
    "        cout << \"Moving robot arm up\" << endl;\n",
    "    } else if (!up && down && !left && !right) {\n",
    "        cout << \"Moving robot arm down\" << endl;\n",
    "    } else if (!up && !down && left && !right) {\n",
    "        cout << \"Moving robot arm left\" << endl;\n",
    "    } else if (!up && !down && !left && right) {\n",
    "        cout << \"Moving robot arm right\" << endl;\n",
    "    } else {\n",
    "        cout << \"Stopping robot arm\" << endl;\n",
    "    }\n",
    "}"
   ]
  },
  {
   "attachments": {},
   "cell_type": "markdown",
   "metadata": {},
   "source": [
    "In the __main()__ function, the program calls __read_signals_from_mobile_app()__ to read the signals from the mobile application and then calls __control_robot_arm()__ with the signals as an argument to control the robot arm. "
   ]
  },
  {
   "cell_type": "code",
   "execution_count": null,
   "metadata": {
    "vscode": {
     "languageId": "cpp"
    }
   },
   "outputs": [],
   "source": [
    "int main() {\n",
    "    // Read the signals from the mobile application\n",
    "    int signals = read_signals_from_mobile_app();\n",
    "    cout << \"Signals received: \" << bitset<4>(signals) << endl;\n",
    "\n",
    "    // Control the robot arm based on the signals\n",
    "    control_robot_arm(signals);\n",
    "\n",
    "    return 0;\n",
    "}"
   ]
  },
  {
   "attachments": {},
   "cell_type": "markdown",
   "metadata": {},
   "source": [
    "__Output:__\n",
    "\n",
    "Signals received: 1000\n",
    "\n",
    "Moving robot arm right"
   ]
  },
  {
   "attachments": {},
   "cell_type": "markdown",
   "metadata": {},
   "source": [
    "__Note:__ This is just a simple example and you would need to replace the placeholder code with actual code to read signals from a mobile application using a communication protocol such as __Bluetooth__ or __Wi-Fi__. _Additionally_, you may need to adapt this code to the specific requirements fo your robot arm and mobile application."
   ]
  },
  {
   "attachments": {},
   "cell_type": "markdown",
   "metadata": {},
   "source": [
    "# Navigation using __LIDAR__\n",
    "Robot arms use a _variety_ of sensors to be able to navigate different objects. By measuring distance to various objects to detect obstacles such as walls, furnitures etc. It provides real-time monitoring and feedback to the robot arm's control system, allowing it to adjust its movements and behavior based on the environment. It also increases the autonomy of the robot arm by allowing it to navigate and operate in complex environments without human intervention. This can be particularly useful in warehousing, logistics, or manufacturing, where robots need to operate in dynamic and unpredictable environments.\n",
    "\n",
    "![](https://eu-images.contentstack.com/v3/assets/blt31d6b0704ba96e9d/blt4c46a271d01eb143/63abebe3d25aa95489bdd438/VelodyneLidar_DeliveryRobot_FoV.jpg)\n",
    "\n",
    "- In order to calculate the distance to the object we can use laser pulses to bounce to the object and then back to the sensor. We can use the equation to calculate the distance based on speed and time. However, since the electromagnetic waves go back and forth, we must divide by __two__ to get the distance to the object. Here is the formula:\n",
    "\n",
    "$$ distance = \\frac{speed-of-light \\times time-of-flight} {2}  $$\n",
    "\n",
    "__Where:__\n",
    "- __distance__ is the distance between the lidar sensor and the object\n",
    "- the speed of __electromagnetic radiation__ is the same _as_ the _constant_ __speed of light__ in a vacuum: $$ 299,792,458m/s$$\n",
    "- [__time-of-flight__](https://www.analog.com/en/applications/technology/3d-time-of-flight.html#:~:text=3D%20time%20of%20flight%20(ToF)%20is%20a%20type%20of%20scanner,from%20a%20scene%20of%20interest) is the time it _takes_ for the __laser pulse__ to travel from the lidar sensor to the object and back to the sensor. It uses a __high power optical pulses__ in durations of __nanoseconds__: 10^-9 = $$0.000000001$$\n",
    "\n",
    "![time-of-flight](https://www.analog.com/-/media/analog/en/technologies/3d-time-of-flight-solution/tof-example2.svg?la=en&imgver=1)\n",
    "\n",
    "We can write a function that calculates the distance to an object from a measured time-of-flight:"
   ]
  },
  {
   "cell_type": "code",
   "execution_count": null,
   "metadata": {
    "vscode": {
     "languageId": "cpp"
    }
   },
   "outputs": [],
   "source": [
    "#include <iostream>\n",
    "#include <cmath>\n",
    "\n",
    "using namespace std;\n",
    "\n",
    "int main()\n",
    "{\n",
    "    const double speed_of_light = 299792458.0;  // Speed of light in m/s\n",
    "    double time_of_flight;                     // Time it takes for the laser pulse to travel to the object and back in seconds\n",
    "    double distance;                           // Distance between the LIDAR sensor and the object in meters\n",
    "    \n",
    "    // Read in the measured time-of-flight in seconds from the LIDAR sensor\n",
    "    cout << \"Enter time-of-flight in seconds: \";\n",
    "    cin >> time_of_flight;\n",
    "    \n",
    "    // Calculate the distance to the object using the time-of-flight and the speed of light\n",
    "    distance = (speed_of_light * time_of_flight) / 2.0;\n",
    "    \n",
    "    // Output the calculated distance to the object in meters\n",
    "    cout << \"Distance to object is: \" << distance << \" meters\" << endl;\n",
    "    \n",
    "    return 0;\n",
    "}"
   ]
  },
  {
   "attachments": {},
   "cell_type": "markdown",
   "metadata": {},
   "source": [
    "Example:\n",
    "\n",
    "30 ns (nanoseconds) = 3.0 x 10^-9 s\n",
    "\n",
    "__Input:__ 0.000000003\n",
    "\n",
    "__Output:__  Distance to object is: 0.449689 meters"
   ]
  },
  {
   "attachments": {},
   "cell_type": "markdown",
   "metadata": {},
   "source": [
    "# Conversion from A/D\n",
    "\n",
    "![](https://ars.els-cdn.com/content/image/3-s2.0-B9780128150719000026-f02-02-9780128150719.jpg)\n",
    "\n",
    "The ADC (Analog-to-Digital) is used to convert analog sensor readings, such as precise position, velocity or force, into electrical/digital signals that can be processed by the robot's control system. The DAC (Digital-to-Analog), is used to convert digital control signals from the robot's control system into analog control signals that can be sent to the robot's actuators with high precision.\n",
    "\n",
    "Many robotic arms use sensors i.e., encoders or force sensors, to provide feedback about the robot's position and force. ADC is used to covert these analog sensor readings into digital signals that can be processed by the robot's control system. The control system can then use the digital signals to adjust the robot's movements and maintain precise control.\n",
    "\n",
    "![Digital Signal](https://upload.wikimedia.org/wikipedia/commons/thumb/f/f3/Digital-signal-noise.svg/1200px-Digital-signal-noise.svg.png)\n",
    "\n",
    "![](https://cdn1.byjus.com/wp-content/uploads/2022/05/Difference-Between-Analog-And-Digital-Signal.png)\n",
    "\n",
    "A __digital signal__ is a signal that uses binary to represent information. The information is represented as a series of __binary__ digits or __\"bits\"__ which is made of __1s__ and __0s__.\n",
    "\n",
    "To convert to digital, I will need to use the formula for ADC:"
   ]
  },
  {
   "attachments": {},
   "cell_type": "markdown",
   "metadata": {},
   "source": [
    "# Problem 1: Accuracy\n",
    "\n",
    "The accuracy of a robot arm in terms of position and orientation refers to how precisely the arm can move to a specific location and how accurately it can orient its end-effector in a particular direction. This accuracy is typically measured repeatedly along with its positional accuracy.\n",
    "\n",
    "The accuracy issue is based on the object's displacement from the target area after a series of repeated movements by the arm. It could be error in accuracy along the X or Y-axis due to sensor errors, design, mechanical wear and tear, control algorithms etc.\n",
    "\n",
    "We can measure the error by:\n",
    "- [Euclidean system](https://www.kth.se/polopoly_fs/1.1078075.1622113235!/gr22rapport2021-02.pdf) by comparing the __position__ and __orientation__ of the end-effector to the target position and orientation to see the _displacement_ in both __x, y & z__ directions.\n",
    "\n",
    "![Model](https://i.pcmag.com/imagery/encyclopedia-terms/x-y-z-matrix-xymatrix.fit_lim.size_1050x.gif)\n",
    "\n",
    "measured along:\n",
    "\n",
    "x = eastwest axis\n",
    "\n",
    "y = northsouth axis\n",
    "\n",
    "z = height/elevation\n",
    "\n",
    "Calculation for Eculidean distance between each target point and the measure point:\n",
    "$$ AP_p = {\\sqrt[2]{(\\bar{x1}-x2_c)^2+(\\bar{y1}-y2_c)^2+(\\bar{z1}-z2_c)^2}} $$\n",
    "\n",
    "Code [here](https://github.com/Julieanna97/Robot-Arm-Research/blob/master/Accuracy%20measurement/Accuracy_Euclidean.cpp)\n",
    "\n",
    "Example of table _positions_ of x, y & z:\n",
    "\n",
    "<!-- Target Position Table -->\n",
    "| $X-Target$ | $Y-Target$ | $Z-Target$ |\n",
    "| -----| ------| ------|\n",
    "| $X1 = 10.0$ | $Y1 = 6.0$ | $Z1 = 4.0$ |\n",
    "-\n",
    "<!-- Starting Position Table -->\n",
    "| $X-Measured$ | $Y-Measured$ | $Z-Measured$ |\n",
    "| -----| ------| ------|\n",
    "| $X2 = 9.8$ | $Y2 = 6.1$ | $Z2 = 4.2$ |\n",
    "\n",
    "Where $\\bar{x1}-x2_c, \\bar{y1}-y2_c, \\bar{z1}-z2_c$ is the error along the x, y and z-axis.\n",
    "\n",
    "$ Calculation: $\n",
    "$$ AP_p = {\\sqrt[2]{(\\bar{10.0}-9.8_c)^2+(\\bar{6.0}-6.1_c)^2+(\\bar{4.0}-4.2_c)^2}} $$\n",
    "\n",
    "We get the following value:\n",
    "\n",
    "$$ 0.04 + 0.01 + 0.04 = 0,09$$\n",
    "\n",
    "Square root of 2 = $${\\sqrt[2]{0,09}} => 0.3$$\n",
    "\n",
    "To calculate the average/mean distance as a measure of the accuracy of the robotic arm:\n",
    "$$ m = \\frac{sum}{distance}$$\n",
    "\n",
    "Example:\n",
    "sum = 4.5\n",
    "$$ m = \\frac{4.5}{0.3} = 15 $$\n",
    "__X & Y__ can be measured in __millimeters__, __centimeters__ or __inches__, depending on the application and the precision __required__. Robotic arms are required to be __highly__ precise, with __accuracy__ levels measured in _millimeter_ or even _microns_.\n",
    "\n",
    "Lastly, we calculate the accuracy error as the difference between the average distance and the ideal distance of e.g., __7.0__ using absolute.\n",
    "$$ abs(15 - 7.0) $$\n",
    "So the __accuracy error__ is: __8__"
   ]
  }
 ],
 "metadata": {
  "kernelspec": {
   "display_name": "Python 3",
   "language": "python",
   "name": "python3"
  },
  "language_info": {
   "codemirror_mode": {
    "name": "ipython",
    "version": 3
   },
   "file_extension": ".py",
   "mimetype": "text/x-python",
   "name": "python",
   "nbconvert_exporter": "python",
   "pygments_lexer": "ipython3",
   "version": "3.10.4"
  },
  "orig_nbformat": 4,
  "vscode": {
   "interpreter": {
    "hash": "0ff010205904bfe3eee581ff58f8f0b99bd85f9d9a45393812156d4e4d4c6c03"
   }
  }
 },
 "nbformat": 4,
 "nbformat_minor": 2
}
